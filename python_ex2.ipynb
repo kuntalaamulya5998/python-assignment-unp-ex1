{
  "nbformat": 4,
  "nbformat_minor": 0,
  "metadata": {
    "colab": {
      "name": "python ex2",
      "provenance": [],
      "collapsed_sections": [],
      "authorship_tag": "ABX9TyP9s+2JJnE3tsCJF4FPtzcc",
      "include_colab_link": true
    },
    "kernelspec": {
      "name": "python3",
      "display_name": "Python 3"
    },
    "language_info": {
      "name": "python"
    }
  },
  "cells": [
    {
      "cell_type": "markdown",
      "metadata": {
        "id": "view-in-github",
        "colab_type": "text"
      },
      "source": [
        "<a href=\"https://colab.research.google.com/github/kuntalaamulya5998/python-assignment-unp-ex1/blob/main/python_ex2.ipynb\" target=\"_parent\"><img src=\"https://colab.research.google.com/assets/colab-badge.svg\" alt=\"Open In Colab\"/></a>"
      ]
    },
    {
      "cell_type": "code",
      "metadata": {
        "id": "JQklM_N55VUg",
        "colab": {
          "base_uri": "https://localhost:8080/"
        },
        "outputId": "e7ccf57c-924f-4142-efbb-1aa957e256cf"
      },
      "source": [
        "!pip install git+https://github.com/ML-challenge/learntools.git\n",
        "from learntools.core import binder;binder.bind(globals())\n",
        "from learntools.python.ex2 import *\n",
        "print(\"setup complete!\")"
      ],
      "execution_count": 4,
      "outputs": [
        {
          "output_type": "stream",
          "name": "stdout",
          "text": [
            "Collecting git+https://github.com/ML-challenge/learntools.git\n",
            "  Cloning https://github.com/ML-challenge/learntools.git to /tmp/pip-req-build-lnatwixm\n",
            "  Running command git clone -q https://github.com/ML-challenge/learntools.git /tmp/pip-req-build-lnatwixm\n"
          ]
        },
        {
          "output_type": "stream",
          "name": "stderr",
          "text": [
            "WARNING:root:Ignoring repeated attempt to bind to globals\n"
          ]
        },
        {
          "output_type": "stream",
          "name": "stdout",
          "text": [
            "setup complete!\n"
          ]
        }
      ]
    },
    {
      "cell_type": "code",
      "metadata": {
        "colab": {
          "base_uri": "https://localhost:8080/",
          "height": 80
        },
        "id": "qz7eshPlxld2",
        "outputId": "3a89e6cc-5406-424b-bada-b48eda553d31"
      },
      "source": [
        "def round_to_two_place(num):\n",
        "     return round(num,2)\n",
        "a=round_to_two_place(3.14159)\n",
        "print(a)\n",
        "q1.check() "
      ],
      "execution_count": 8,
      "outputs": [
        {
          "output_type": "stream",
          "name": "stdout",
          "text": [
            "3.14\n"
          ]
        },
        {
          "output_type": "display_data",
          "data": {
            "application/javascript": [
              "parent.postMessage({\"jupyterEvent\": \"custom.exercise_interaction\", \"data\": {\"outcomeType\": 4, \"interactionType\": 1, \"questionType\": 2, \"questionId\": \"1_RoundFunctionProblem\", \"learnToolsVersion\": \"0.3.4\", \"valueTowardsCompletion\": 0.0, \"failureMessage\": \"\", \"exceptionClass\": \"\", \"trace\": \"\"}}, \"*\")"
            ],
            "text/plain": [
              "<IPython.core.display.Javascript object>"
            ]
          },
          "metadata": {}
        },
        {
          "output_type": "display_data",
          "data": {
            "text/markdown": "<span style=\"color:#ccaa33\">Check:</span> When you've updated the starter code, `check()` will tell you whether your code is correct. Remember, you must create the following variable: `round_to_two_places`",
            "text/plain": [
              "Check: When you've updated the starter code, `check()` will tell you whether your code is correct. Remember, you must create the following variable: `round_to_two_places`"
            ]
          },
          "metadata": {}
        }
      ]
    },
    {
      "cell_type": "code",
      "metadata": {
        "colab": {
          "base_uri": "https://localhost:8080/"
        },
        "id": "BAgZ38Lqy4xD",
        "outputId": "9e261af9-c9aa-4875-ba99-14f7dcbd23c4"
      },
      "source": [
        "round(145368.34,ndigits=-3)"
      ],
      "execution_count": 17,
      "outputs": [
        {
          "output_type": "execute_result",
          "data": {
            "text/plain": [
              "145000.0"
            ]
          },
          "metadata": {},
          "execution_count": 17
        }
      ]
    },
    {
      "cell_type": "code",
      "metadata": {
        "colab": {
          "base_uri": "https://localhost:8080/"
        },
        "id": "GVh4-l87zIIL",
        "outputId": "74055868-a023-4e1f-8128-ff5859979d26"
      },
      "source": [
        "round(76472.124,ndigits=-1)"
      ],
      "execution_count": 18,
      "outputs": [
        {
          "output_type": "execute_result",
          "data": {
            "text/plain": [
              "76470.0"
            ]
          },
          "metadata": {},
          "execution_count": 18
        }
      ]
    },
    {
      "cell_type": "code",
      "metadata": {
        "colab": {
          "base_uri": "https://localhost:8080/",
          "height": 63
        },
        "id": "MlutdJL5zhn7",
        "outputId": "72e74adf-7142-4476-b990-5f0bf2231781"
      },
      "source": [
        "def  to_smash(total_candies,pen=3):\n",
        "     return(total_candies % pen)\n",
        "a= to_smash(91)\n",
        "print(a)\n",
        "q3.check()"
      ],
      "execution_count": 19,
      "outputs": [
        {
          "output_type": "stream",
          "name": "stdout",
          "text": [
            "1\n"
          ]
        },
        {
          "output_type": "display_data",
          "data": {
            "application/javascript": [
              "parent.postMessage({\"jupyterEvent\": \"custom.exercise_interaction\", \"data\": {\"outcomeType\": 1, \"valueTowardsCompletion\": 0.16666666666666666, \"interactionType\": 1, \"questionType\": 2, \"questionId\": \"3_CandySmashingFunctionProblem\", \"learnToolsVersion\": \"0.3.4\", \"failureMessage\": \"\", \"exceptionClass\": \"\", \"trace\": \"\"}}, \"*\")"
            ],
            "text/plain": [
              "<IPython.core.display.Javascript object>"
            ]
          },
          "metadata": {}
        },
        {
          "output_type": "display_data",
          "data": {
            "text/markdown": "<span style=\"color:#33cc33\">Correct</span>",
            "text/plain": [
              "Correct"
            ]
          },
          "metadata": {}
        }
      ]
    },
    {
      "cell_type": "code",
      "metadata": {
        "colab": {
          "base_uri": "https://localhost:8080/"
        },
        "id": "A9jVZSTh0a39",
        "outputId": "61cb1ab2-f41f-44be-a980-3be2df92edee"
      },
      "source": [
        "x=48.78\n",
        "y=6\n",
        "print(abs(x))\n",
        "print(min(x,y))"
      ],
      "execution_count": 21,
      "outputs": [
        {
          "output_type": "stream",
          "name": "stdout",
          "text": [
            "48.78\n",
            "6\n"
          ]
        }
      ]
    },
    {
      "cell_type": "code",
      "metadata": {
        "colab": {
          "base_uri": "https://localhost:8080/"
        },
        "id": "715aGE2r1bMD",
        "outputId": "8a9a4ecd-7a4d-476d-c1f8-bb5050ff523c"
      },
      "source": [
        "x=-46\n",
        "y=6\n",
        "z=abs(x)\n",
        "r=abs(y)\n",
        "print(z)\n",
        "smallest_abs=min(z,r)\n",
        "print(smallest_abs)"
      ],
      "execution_count": 27,
      "outputs": [
        {
          "output_type": "stream",
          "name": "stdout",
          "text": [
            "46\n",
            "6\n"
          ]
        }
      ]
    },
    {
      "cell_type": "code",
      "metadata": {
        "colab": {
          "base_uri": "https://localhost:8080/"
        },
        "id": "FlPHMYQJ7pts",
        "outputId": "e5d68750-ce02-4571-81db-f8d35080f6af"
      },
      "source": [
        "def f(x):\n",
        "     y=abs(x)\n",
        "     return y\n",
        "print(f(-6))\n",
        "print(\"i=It gives absolute value\",f(-6.76))"
      ],
      "execution_count": 29,
      "outputs": [
        {
          "output_type": "stream",
          "name": "stdout",
          "text": [
            "6\n",
            "i=It gives absolute value 6.76\n"
          ]
        }
      ]
    }
  ]
}