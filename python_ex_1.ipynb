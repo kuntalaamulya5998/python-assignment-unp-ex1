{
  "nbformat": 4,
  "nbformat_minor": 0,
  "metadata": {
    "colab": {
      "name": "python ex 1",
      "provenance": [],
      "collapsed_sections": [],
      "authorship_tag": "ABX9TyP8k3PYGAfIvIKJO7eIGAXj",
      "include_colab_link": true
    },
    "kernelspec": {
      "name": "python3",
      "display_name": "Python 3"
    },
    "language_info": {
      "name": "python"
    }
  },
  "cells": [
    {
      "cell_type": "markdown",
      "metadata": {
        "id": "view-in-github",
        "colab_type": "text"
      },
      "source": [
        "<a href=\"https://colab.research.google.com/github/kuntalaamulya5998/python-assignment-unp-ex1/blob/main/python_ex_1.ipynb\" target=\"_parent\"><img src=\"https://colab.research.google.com/assets/colab-badge.svg\" alt=\"Open In Colab\"/></a>"
      ]
    },
    {
      "cell_type": "code",
      "metadata": {
        "colab": {
          "base_uri": "https://localhost:8080/"
        },
        "id": "M-StcpnMhYKC",
        "outputId": "1e39b14b-bf47-40de-86c4-d0772fc5d8db"
      },
      "source": [
        "!pip install git+https://github.com/ML-challenge/learntools.git\n",
        "from learntools.core import binder; binder.bind(globals()) \n",
        "from learntools.python.ex1 import *\n",
        "print(\"setup complete!\")"
      ],
      "execution_count": 1,
      "outputs": [
        {
          "output_type": "stream",
          "name": "stdout",
          "text": [
            "Collecting git+https://github.com/ML-challenge/learntools.git\n",
            "  Cloning https://github.com/ML-challenge/learntools.git to /tmp/pip-req-build-jzybemsf\n",
            "  Running command git clone -q https://github.com/ML-challenge/learntools.git /tmp/pip-req-build-jzybemsf\n",
            "Building wheels for collected packages: learntools\n",
            "  Building wheel for learntools (setup.py) ... \u001b[?25l\u001b[?25hdone\n",
            "  Created wheel for learntools: filename=learntools-0.3.4-py3-none-any.whl size=207310 sha256=c078b713075f22fb47c6e318a257c181ce110f1f11e8fd9cafe5be8667480715\n",
            "  Stored in directory: /tmp/pip-ephem-wheel-cache-eznigkq8/wheels/83/06/77/e15d5b18b697b94dd9a4eb5ea0e6fcaf676b5b78c49ecdb023\n",
            "Successfully built learntools\n",
            "Installing collected packages: learntools\n",
            "Successfully installed learntools-0.3.4\n",
            "setup complete!\n"
          ]
        }
      ]
    },
    {
      "cell_type": "code",
      "metadata": {
        "colab": {
          "base_uri": "https://localhost:8080/",
          "height": 63
        },
        "id": "blJNlzUyikZC",
        "outputId": "483f68ba-4f15-4600-9055-1303fafe7952"
      },
      "source": [
        "pi=3.14159\n",
        "diameter=3\n",
        "radius=diameter/2\n",
        "area=pi*(radius**2)\n",
        "print(area)\n",
        "q1.check()"
      ],
      "execution_count": 2,
      "outputs": [
        {
          "output_type": "stream",
          "name": "stdout",
          "text": [
            "7.0685775\n"
          ]
        },
        {
          "output_type": "display_data",
          "data": {
            "application/javascript": [
              "parent.postMessage({\"jupyterEvent\": \"custom.exercise_interaction\", \"data\": {\"outcomeType\": 1, \"valueTowardsCompletion\": 0.25, \"interactionType\": 1, \"questionType\": 1, \"questionId\": \"1_CircleArea\", \"learnToolsVersion\": \"0.3.4\", \"failureMessage\": \"\", \"exceptionClass\": \"\", \"trace\": \"\"}}, \"*\")"
            ],
            "text/plain": [
              "<IPython.core.display.Javascript object>"
            ]
          },
          "metadata": {}
        },
        {
          "output_type": "display_data",
          "data": {
            "text/markdown": "<span style=\"color:#33cc33\">Correct</span>",
            "text/plain": [
              "Correct"
            ]
          },
          "metadata": {}
        }
      ]
    },
    {
      "cell_type": "code",
      "metadata": {
        "colab": {
          "base_uri": "https://localhost:8080/",
          "height": 46
        },
        "id": "AtHeijZCjI-z",
        "outputId": "5b80957a-952b-4d10-80d1-a8c667297e23"
      },
      "source": [
        "q2.hint()"
      ],
      "execution_count": 4,
      "outputs": [
        {
          "output_type": "display_data",
          "data": {
            "application/javascript": [
              "parent.postMessage({\"jupyterEvent\": \"custom.exercise_interaction\", \"data\": {\"interactionType\": 2, \"questionType\": 2, \"questionId\": \"2_VariableSwap\", \"learnToolsVersion\": \"0.3.4\", \"valueTowardsCompletion\": 0.0, \"failureMessage\": \"\", \"exceptionClass\": \"\", \"trace\": \"\", \"outcomeType\": 4}}, \"*\")"
            ],
            "text/plain": [
              "<IPython.core.display.Javascript object>"
            ]
          },
          "metadata": {}
        },
        {
          "output_type": "display_data",
          "data": {
            "text/markdown": "<span style=\"color:#3366cc\">Hint:</span> Try using a third variable.",
            "text/plain": [
              "Hint: Try using a third variable."
            ]
          },
          "metadata": {}
        }
      ]
    },
    {
      "cell_type": "code",
      "metadata": {
        "colab": {
          "base_uri": "https://localhost:8080/",
          "height": 229
        },
        "id": "tXVC3-k5krnh",
        "outputId": "cde951d2-5b21-413c-84e0-0b81211ea6cb"
      },
      "source": [
        "a=[1,2,3]\n",
        "b=[3,2,1]\n",
        "q2.store_original_ids()\n",
        "temp=a\n",
        "a=b\n",
        "b=temp\n",
        "print(a)\n",
        "print(b)\n",
        "q2.check()"
      ],
      "execution_count": 7,
      "outputs": [
        {
          "output_type": "stream",
          "name": "stdout",
          "text": [
            "[3, 2, 1]\n",
            "[1, 2, 3]\n"
          ]
        },
        {
          "output_type": "display_data",
          "data": {
            "application/javascript": [
              "parent.postMessage({\"jupyterEvent\": \"custom.exercise_interaction\", \"data\": {\"outcomeType\": 1, \"valueTowardsCompletion\": 0.25, \"interactionType\": 1, \"questionType\": 2, \"questionId\": \"2_VariableSwap\", \"learnToolsVersion\": \"0.3.4\", \"failureMessage\": \"\", \"exceptionClass\": \"\", \"trace\": \"\"}}, \"*\")"
            ],
            "text/plain": [
              "<IPython.core.display.Javascript object>"
            ]
          },
          "metadata": {}
        },
        {
          "output_type": "display_data",
          "data": {
            "text/markdown": "<span style=\"color:#33cc33\">Correct:</span> \n\nThe most straightforward solution is to use a third variable to temporarily store one of the old values. e.g.:\n\n    tmp = a\n    a = b\n    b = tmp\n\nIf you've read lots of Python code, you might have seen the following trick to swap two variables in one line:\n\n    a, b = b, a\n\nWe'll demystify this bit of Python magic later when we talk about *tuples*.",
            "text/plain": [
              "Correct: \n",
              "\n",
              "The most straightforward solution is to use a third variable to temporarily store one of the old values. e.g.:\n",
              "\n",
              "    tmp = a\n",
              "    a = b\n",
              "    b = tmp\n",
              "\n",
              "If you've read lots of Python code, you might have seen the following trick to swap two variables in one line:\n",
              "\n",
              "    a, b = b, a\n",
              "\n",
              "We'll demystify this bit of Python magic later when we talk about *tuples*."
            ]
          },
          "metadata": {}
        }
      ]
    },
    {
      "cell_type": "code",
      "metadata": {
        "colab": {
          "base_uri": "https://localhost:8080/"
        },
        "id": "lUufWfqmlxfW",
        "outputId": "acf4e745-447e-426c-96d7-5541a5e1bd97"
      },
      "source": [
        "(5-3)//2"
      ],
      "execution_count": 9,
      "outputs": [
        {
          "output_type": "execute_result",
          "data": {
            "text/plain": [
              "1"
            ]
          },
          "metadata": {},
          "execution_count": 9
        }
      ]
    },
    {
      "cell_type": "code",
      "metadata": {
        "colab": {
          "base_uri": "https://localhost:8080/"
        },
        "id": "usvFKjI9nWU2",
        "outputId": "95b865a5-138d-491c-8528-8dc8fb6c4373"
      },
      "source": [
        "(8-3)*(2-(1+1))"
      ],
      "execution_count": 11,
      "outputs": [
        {
          "output_type": "execute_result",
          "data": {
            "text/plain": [
              "0"
            ]
          },
          "metadata": {},
          "execution_count": 11
        }
      ]
    },
    {
      "cell_type": "code",
      "metadata": {
        "colab": {
          "base_uri": "https://localhost:8080/",
          "height": 46
        },
        "id": "OeBE8L3znfCl",
        "outputId": "70942983-f368-4b90-c8c4-680236e2d1f7"
      },
      "source": [
        "q4.hint()"
      ],
      "execution_count": 15,
      "outputs": [
        {
          "output_type": "display_data",
          "data": {
            "application/javascript": [
              "parent.postMessage({\"jupyterEvent\": \"custom.exercise_interaction\", \"data\": {\"interactionType\": 2, \"questionType\": 1, \"questionId\": \"4_CandySplitting\", \"learnToolsVersion\": \"0.3.4\", \"valueTowardsCompletion\": 0.0, \"failureMessage\": \"\", \"exceptionClass\": \"\", \"trace\": \"\", \"outcomeType\": 4}}, \"*\")"
            ],
            "text/plain": [
              "<IPython.core.display.Javascript object>"
            ]
          },
          "metadata": {}
        },
        {
          "output_type": "display_data",
          "data": {
            "text/markdown": "<span style=\"color:#3366cc\">Hint 1:</span> You'll probably want to use the modulo operator, `%`.\n(For another hint, call `.hint(2)`)",
            "text/plain": [
              "Hint 1: You'll probably want to use the modulo operator, `%`.\n",
              "(For another hint, call `.hint(2)`)"
            ]
          },
          "metadata": {}
        }
      ]
    },
    {
      "cell_type": "code",
      "metadata": {
        "colab": {
          "base_uri": "https://localhost:8080/",
          "height": 46
        },
        "id": "WBZFp9qzpLv9",
        "outputId": "9d689689-4ae4-42ee-a454-bfc6ff90c379"
      },
      "source": [
        "q4.hint(2)"
      ],
      "execution_count": 17,
      "outputs": [
        {
          "output_type": "display_data",
          "data": {
            "application/javascript": [
              "parent.postMessage({\"jupyterEvent\": \"custom.exercise_interaction\", \"data\": {\"interactionType\": 2, \"questionType\": 1, \"questionId\": \"4_CandySplitting\", \"learnToolsVersion\": \"0.3.4\", \"valueTowardsCompletion\": 0.0, \"failureMessage\": \"\", \"exceptionClass\": \"\", \"trace\": \"\", \"outcomeType\": 4}}, \"*\")"
            ],
            "text/plain": [
              "<IPython.core.display.Javascript object>"
            ]
          },
          "metadata": {}
        },
        {
          "output_type": "display_data",
          "data": {
            "text/markdown": "<span style=\"color:#3366cc\">Hint 2:</span> `j % k` is the remainder after dividing `j` by `k`",
            "text/plain": [
              "Hint 2: `j % k` is the remainder after dividing `j` by `k`"
            ]
          },
          "metadata": {}
        }
      ]
    },
    {
      "cell_type": "code",
      "metadata": {
        "colab": {
          "base_uri": "https://localhost:8080/",
          "height": 63
        },
        "id": "_LrCACyspXUD",
        "outputId": "d6c65672-24b5-4268-92df-00b4720cde9e"
      },
      "source": [
        "alice_candies=121\n",
        "bob_candies=77\n",
        "carol_candies=109\n",
        "to_smash=-1\n",
        "j=(alice_candies+bob_candies+carol_candies)\n",
        "k=3\n",
        "print(j%k)\n",
        "q4.check()"
      ],
      "execution_count": 18,
      "outputs": [
        {
          "output_type": "stream",
          "name": "stdout",
          "text": [
            "1\n"
          ]
        },
        {
          "output_type": "display_data",
          "data": {
            "application/javascript": [
              "parent.postMessage({\"jupyterEvent\": \"custom.exercise_interaction\", \"data\": {\"outcomeType\": 4, \"interactionType\": 1, \"questionType\": 1, \"questionId\": \"4_CandySplitting\", \"learnToolsVersion\": \"0.3.4\", \"valueTowardsCompletion\": 0.0, \"failureMessage\": \"\", \"exceptionClass\": \"\", \"trace\": \"\"}}, \"*\")"
            ],
            "text/plain": [
              "<IPython.core.display.Javascript object>"
            ]
          },
          "metadata": {}
        },
        {
          "output_type": "display_data",
          "data": {
            "text/markdown": "<span style=\"color:#ccaa33\">Check:</span> When you've updated the starter code, `check()` will tell you whether your code is correct. You need to update the code that creates variable `to_smash`",
            "text/plain": [
              "Check: When you've updated the starter code, `check()` will tell you whether your code is correct. You need to update the code that creates variable `to_smash`"
            ]
          },
          "metadata": {}
        }
      ]
    }
  ]
}